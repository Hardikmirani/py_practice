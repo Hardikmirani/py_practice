{
 "cells": [
  {
   "cell_type": "code",
   "execution_count": 29,
   "metadata": {},
   "outputs": [
    {
     "name": "stdout",
     "output_type": "stream",
     "text": [
      "total of even num\n",
      "5\n",
      "total of odd num\n",
      "6\n"
     ]
    }
   ],
   "source": [
    "tup = (1,2,4,5,7,6,8,9,12,14,13)\n",
    "a = 0\n",
    "b = 0\n",
    "n = len(tup)\n",
    "\n",
    "for i in range(1,n+1):\n",
    "    if(i%2==0):\n",
    "        a = a + 1\n",
    "    else:\n",
    "        b = b + 1\n",
    "print('total of even num')\n",
    "print(a)\n",
    "print('total of odd num')\n",
    "print(b)\n",
    "        \n"
   ]
  }
 ],
 "metadata": {
  "kernelspec": {
   "display_name": "Python 3",
   "language": "python",
   "name": "python3"
  },
  "language_info": {
   "codemirror_mode": {
    "name": "ipython",
    "version": 3
   },
   "file_extension": ".py",
   "mimetype": "text/x-python",
   "name": "python",
   "nbconvert_exporter": "python",
   "pygments_lexer": "ipython3",
   "version": "3.7.6"
  }
 },
 "nbformat": 4,
 "nbformat_minor": 4
}
