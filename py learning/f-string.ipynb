{
 "cells": [
  {
   "cell_type": "code",
   "execution_count": 4,
   "metadata": {},
   "outputs": [
    {
     "name": "stdout",
     "output_type": "stream",
     "text": [
      "sastri\n",
      "rajkot\n",
      "india\n"
     ]
    }
   ],
   "source": [
    "street = input()\n",
    "city = input()\n",
    "country = input()\n",
    "\n"
   ]
  },
  {
   "cell_type": "code",
   "execution_count": 5,
   "metadata": {},
   "outputs": [
    {
     "name": "stdout",
     "output_type": "stream",
     "text": [
      "sastri, rajkot, india\n"
     ]
    }
   ],
   "source": [
    "print(street + ', ' + city + ', ' + country)"
   ]
  },
  {
   "cell_type": "code",
   "execution_count": 9,
   "metadata": {},
   "outputs": [
    {
     "name": "stdout",
     "output_type": "stream",
     "text": [
      "d\n",
      "f\n",
      "g\n",
      " adress is:d , f , g\n"
     ]
    }
   ],
   "source": [
    "s = input()\n",
    "c = input()\n",
    "ctr = input()\n",
    "\n",
    "print ( f' adress is:{s} , {c} , {ctr}')\n"
   ]
  }
 ],
 "metadata": {
  "kernelspec": {
   "display_name": "Python 3",
   "language": "python",
   "name": "python3"
  },
  "language_info": {
   "codemirror_mode": {
    "name": "ipython",
    "version": 3
   },
   "file_extension": ".py",
   "mimetype": "text/x-python",
   "name": "python",
   "nbconvert_exporter": "python",
   "pygments_lexer": "ipython3",
   "version": "3.7.6"
  }
 },
 "nbformat": 4,
 "nbformat_minor": 4
}
